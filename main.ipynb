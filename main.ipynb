{
 "cells": [
  {
   "cell_type": "code",
   "execution_count": null,
   "metadata": {},
   "outputs": [],
   "source": [
    "from collections import namedtuple\n",
    "from datetime import datetime, timedelta\n",
    "from typing import List\n",
    "import pandas as pd\n",
    "import numpy as np\n",
    "from scipy import stats\n",
    "from pandas import DataFrame\n",
    "import matplotlib.pyplot as plt\n",
    "import matplotlib.dates as mdates\n",
    "\n",
    "def append_dataframe(dataframe: DataFrame, start_time_offset: int, end_time_offset: int) -> DataFrame:\n",
    "    \"\"\"Function creates two new columns for identifying pumping cycles and returns an amended dataframe object\n",
    "    \n",
    "    PARAMETERS:\n",
    "    dataframe: Dataframe object\n",
    "    start_time_offset: number of seconds required to start cycle after pump changing state to 1\n",
    "    start_time_offset: number of seconds required to end cycle before pump changing state to 2\n",
    "\n",
    "    OUTPUT:\n",
    "    Add 2 new columns to existing Dataframe object:\n",
    "    [PumpCycle]: determines if item is part of the pumpcing cycle or not; possible values [1/0]\n",
    "    [PumpStartTime]: shows a real starting time of the respective pump cycle and its also used as grouping attribute\n",
    "                     pump start time is unique for each pump cycle and therefore can be used as grouping attribute\n",
    "    \"\"\"\n",
    "    def select_offset_time(df: DataFrame,offset_time: int,pump_state: float) -> np.datetime64:\n",
    "        \"\"\"Function returns a new start time value if row is identified as pump cycle start\n",
    "        \n",
    "        Can be used for adjusting both start and end pump cycle start times\n",
    "        Used only as func argument for dataframe.apply() method\n",
    "\n",
    "        PARAMETERS:\n",
    "        df: DataFrame object\n",
    "        offset_time: offset time value, which should be added to current datetime value\n",
    "        pump_state: value, which is in dataset represent as start/end of the pump cycle; e.g. [1.0/2.0]\n",
    "        \"\"\"\n",
    "        if df[\"PumpState\"] == pump_state:\n",
    "            return pd.to_datetime(df[\"Date\"]) + pd.to_timedelta(offset_time,unit=\"s\")\n",
    "        else:\n",
    "            return np.nan\n",
    "\n",
    "    def identify_pump_cycle(df: DataFrame, pump_state: float) -> int:\n",
    "        \"\"\"Function identifies if row in dataset is part of the pump cycle, returns logical value [1/0]\n",
    "\n",
    "        Filtering is happening on 2 levels:\n",
    "        - Row is part of the pump start state => represented by [PumpStateFillDown]\n",
    "        - Row time stamp is within start/end offset time ranges => [PumpEndTime],[PumpStartTime] represent borders\n",
    "        Used only as func argument for dataframe.apply() method\n",
    "        \n",
    "        PARAMETERS:\n",
    "        df: DataFrame object\n",
    "        pump_state: value, which storing info about start of the pump cycle within dataset; e.g. [1.0]\n",
    "        \"\"\"\n",
    "        if df[\"PumpStateFillDown\"] == pump_state and \\\n",
    "            pd.to_datetime(df[\"PumpEndTime\"]) > df[\"Date\"] > pd.to_datetime(df[\"PumpStartTime\"]):\n",
    "            return 1\n",
    "        else:\n",
    "            return 0\n",
    "\n",
    "    #Help column used for identifying pump cycles\n",
    "    dataframe[\"PumpStateFillDown\"] = dataframe[\"PumpState\"].ffill(axis=0)\n",
    "    #Get and fill down new pump cycle start time\n",
    "    dataframe[\"PumpStartTime\"] = dataframe.apply(select_offset_time,args = (start_time_offset,1.0,),axis = 1).ffill(axis=0)\n",
    "    #Get and fill up new pump cycle end time\n",
    "    dataframe[\"PumpEndTime\"] = dataframe.apply(select_offset_time,args = (end_time_offset,2.0,),axis = 1).bfill(axis=0)\n",
    "    #Identify whether row is part of the pump cycle\n",
    "    dataframe[\"PumpCycle\"] = dataframe.apply(identify_pump_cycle,args = (1.0,),axis = 1)\n",
    "\n",
    "    #Help columns only, which will not be used in program going forward\n",
    "    dataframe.drop(columns=[\"PumpStateFillDown\",\"PumpEndTime\"],axis=1,inplace=True)\n",
    "\n",
    "    return dataframe"
   ]
  },
  {
   "cell_type": "code",
   "execution_count": 9,
   "metadata": {},
   "outputs": [
    {
     "ename": "ModuleNotFoundError",
     "evalue": "No module named 'mprun_demo'",
     "output_type": "error",
     "traceback": [
      "\u001b[1;31m---------------------------------------------------------------------------\u001b[0m",
      "\u001b[1;31mModuleNotFoundError\u001b[0m                       Traceback (most recent call last)",
      "\u001b[1;32m~\\AppData\\Local\\Temp/ipykernel_8412/3769834631.py\u001b[0m in \u001b[0;36m<module>\u001b[1;34m\u001b[0m\n\u001b[0;32m      1\u001b[0m \u001b[1;32mimport\u001b[0m \u001b[0mpandas\u001b[0m \u001b[1;32mas\u001b[0m \u001b[0mpd\u001b[0m\u001b[1;33m\u001b[0m\u001b[1;33m\u001b[0m\u001b[0m\n\u001b[0;32m      2\u001b[0m \u001b[1;32mfrom\u001b[0m \u001b[0mpumping_cycle_utils\u001b[0m \u001b[1;32mimport\u001b[0m \u001b[0mpopulate_tresholds\u001b[0m\u001b[1;33m,\u001b[0m \u001b[0mpopulate_statistics\u001b[0m\u001b[1;33m\u001b[0m\u001b[1;33m\u001b[0m\u001b[0m\n\u001b[1;32m----> 3\u001b[1;33m \u001b[1;32mfrom\u001b[0m \u001b[0mmprun_demo\u001b[0m \u001b[1;32mimport\u001b[0m \u001b[0mappend_dataframe\u001b[0m\u001b[1;33m\u001b[0m\u001b[1;33m\u001b[0m\u001b[0m\n\u001b[0m\u001b[0;32m      4\u001b[0m \u001b[0mget_ipython\u001b[0m\u001b[1;33m(\u001b[0m\u001b[1;33m)\u001b[0m\u001b[1;33m.\u001b[0m\u001b[0mrun_line_magic\u001b[0m\u001b[1;33m(\u001b[0m\u001b[1;34m'load_ext'\u001b[0m\u001b[1;33m,\u001b[0m \u001b[1;34m'line_profiler'\u001b[0m\u001b[1;33m)\u001b[0m\u001b[1;33m\u001b[0m\u001b[1;33m\u001b[0m\u001b[0m\n\u001b[0;32m      5\u001b[0m \u001b[1;33m\u001b[0m\u001b[0m\n",
      "\u001b[1;31mModuleNotFoundError\u001b[0m: No module named 'mprun_demo'"
     ]
    }
   ],
   "source": [
    "import pandas as pd\n",
    "from pumping_cycle_utils import populate_tresholds, populate_statistics\n",
    "from mprun_demo import append_dataframe\n",
    "%load_ext line_profiler\n",
    "\n",
    "df = pd.read_csv(\"Pressure.csv\")\n",
    "df[\"Date\"] = pd.to_datetime(df[\"Date\"])\n",
    "\n",
    "print(\"{0}Pumping Cycle Tresholds Results{0}\".format(\"=\"*10))\n",
    "%mprun append_dataframe(df,start_time_offset=10,end_time_offset=-5) #Add 2 new columns to original DF\n",
    "populate_tresholds(dataframe=df)\n",
    "\n",
    "print(\"{0}Pumping Cycle Health Analysis Results{0}\".format(\"=\"*10))\n",
    "#Show Kendalls Tau and p-value for all pump cycles\n",
    "populate_statistics(dataframe=df)\n",
    "\n",
    "\n"
   ]
  },
  {
   "cell_type": "code",
   "execution_count": null,
   "metadata": {},
   "outputs": [],
   "source": []
  }
 ],
 "metadata": {
  "interpreter": {
   "hash": "d4e3ca4ca4f46e2f3843d95aea4f95ff706db0453df7689abd072165fceab22d"
  },
  "kernelspec": {
   "display_name": "Python 3 (ipykernel)",
   "language": "python",
   "name": "python3"
  },
  "language_info": {
   "codemirror_mode": {
    "name": "ipython",
    "version": 3
   },
   "file_extension": ".py",
   "mimetype": "text/x-python",
   "name": "python",
   "nbconvert_exporter": "python",
   "pygments_lexer": "ipython3",
   "version": "3.7.1"
  }
 },
 "nbformat": 4,
 "nbformat_minor": 2
}
