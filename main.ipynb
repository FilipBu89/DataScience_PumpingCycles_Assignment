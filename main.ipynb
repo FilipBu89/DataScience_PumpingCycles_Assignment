{
 "cells": [
  {
   "cell_type": "code",
   "execution_count": null,
   "metadata": {},
   "outputs": [],
   "source": [
    "import pandas as pd\n",
    "from pumping_cycle_utils import append_dataframe, populate_tresholds, populate_statistics\n",
    "\n",
    "df = pd.read_csv(\"Pressure.csv\")\n",
    "df[\"Date\"] = pd.to_datetime(df[\"Date\"])\n",
    "\n",
    "print(\"{0}Pumping Cycle Tresholds Results{0}\".format(\"=\"*10))\n",
    "#Add 2 new columns to original DF\n",
    "append_dataframe(df,start_time_offset=10,end_time_offset=-5)\n",
    "populate_tresholds(dataframe=df)\n",
    "\n",
    "print(\"{0}Pumping Cycle Health Analysis Results{0}\".format(\"=\"*10))\n",
    "#Show Kendalls Tau and p-value for all pump cycles\n",
    "populate_statistics(dataframe=df)\n",
    "\n",
    "\n"
   ]
  }
 ],
 "metadata": {
  "interpreter": {
   "hash": "d4e3ca4ca4f46e2f3843d95aea4f95ff706db0453df7689abd072165fceab22d"
  },
  "kernelspec": {
   "display_name": "Python 3 (ipykernel)",
   "language": "python",
   "name": "python3"
  },
  "language_info": {
   "codemirror_mode": {
    "name": "ipython",
    "version": 3
   },
   "file_extension": ".py",
   "mimetype": "text/x-python",
   "name": "python",
   "nbconvert_exporter": "python",
   "pygments_lexer": "ipython3",
   "version": "3.7.1"
  }
 },
 "nbformat": 4,
 "nbformat_minor": 2
}
